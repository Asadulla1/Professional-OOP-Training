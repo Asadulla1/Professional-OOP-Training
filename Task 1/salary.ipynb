{
  "nbformat": 4,
  "nbformat_minor": 0,
  "metadata": {
    "colab": {
      "provenance": []
    },
    "kernelspec": {
      "name": "python3",
      "display_name": "Python 3"
    },
    "language_info": {
      "name": "python"
    }
  },
  "cells": [
    {
      "cell_type": "code",
      "execution_count": 1,
      "metadata": {
        "id": "UbBI6A_gLcDE"
      },
      "outputs": [],
      "source": [
        "import csv"
      ]
    },
    {
      "cell_type": "code",
      "source": [
        "def min_max_salary(file_path):\n",
        "    with open(file_path, 'r') as file:\n",
        "        reader = csv.reader(file)\n",
        "        salary_data =[]\n",
        "\n",
        "        for row in reader:\n",
        "          if len(row)==2:\n",
        "            name,salary = row[0],int(row[1])\n",
        "            salary_data.append((name,salary))\n",
        "\n",
        "        maximum_salary = max(salary_data,key=lambda x:x[1])\n",
        "        minimum_salary = min(salary_data,key=lambda x:x[1])\n",
        "        total_salary = sum(x[1] for x in salary_data)\n",
        "        average_salary = total_salary / len(salary_data)\n",
        "        return maximum_salary,minimum_salary,average_salary"
      ],
      "metadata": {
        "id": "bfBTMQl0Lh8J"
      },
      "execution_count": 2,
      "outputs": []
    },
    {
      "cell_type": "code",
      "source": [
        "file_path =\"/content/salarysheet.csv\"\n",
        "results = min_max_salary(file_path)"
      ],
      "metadata": {
        "id": "TO2fWq0xMmwI"
      },
      "execution_count": 3,
      "outputs": []
    },
    {
      "cell_type": "code",
      "source": [
        "for result in results:\n",
        "  print(result)"
      ],
      "metadata": {
        "colab": {
          "base_uri": "https://localhost:8080/"
        },
        "id": "xWerElM2MtTo",
        "outputId": "251187cd-da99-484a-a9a8-8eb8643d370c"
      },
      "execution_count": 4,
      "outputs": [
        {
          "output_type": "stream",
          "name": "stdout",
          "text": [
            "('Hasan', 56000)\n",
            "('Rafi', 34000)\n",
            "45000.0\n"
          ]
        }
      ]
    },
    {
      "cell_type": "code",
      "source": [
        "print(f\"Maximum Salary: {results[0][0]} - {results[0][1]}\")\n",
        "print(f\"Minimum Salary: {results[1][0]} - {results[1][1]}\")\n",
        "print(f\"Average Salary: {results[2]}\")"
      ],
      "metadata": {
        "colab": {
          "base_uri": "https://localhost:8080/"
        },
        "id": "TR2WvlhlNqei",
        "outputId": "392e0f7c-8063-462f-dcb9-61c0ae0833a1"
      },
      "execution_count": 5,
      "outputs": [
        {
          "output_type": "stream",
          "name": "stdout",
          "text": [
            "Maximum Salary: Hasan - 56000\n",
            "Minimum Salary: Rafi - 34000\n",
            "Average Salary: 45000.0\n"
          ]
        }
      ]
    },
    {
      "cell_type": "code",
      "source": [],
      "metadata": {
        "id": "u7U8nE5KObMt"
      },
      "execution_count": null,
      "outputs": []
    }
  ]
}